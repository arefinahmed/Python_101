{
  "cells": [
    {
      "metadata": {
        "trusted": true
      },
      "cell_type": "code",
      "source": "print(14+25)",
      "execution_count": 2,
      "outputs": [
        {
          "output_type": "stream",
          "text": "39\n",
          "name": "stdout"
        }
      ]
    },
    {
      "metadata": {
        "trusted": true
      },
      "cell_type": "code",
      "source": "#simple function\ndef say_hi():\n    print(\"hello world\")\n    \nsay_hi()",
      "execution_count": 3,
      "outputs": [
        {
          "output_type": "stream",
          "text": "hello world\n",
          "name": "stdout"
        }
      ]
    },
    {
      "metadata": {
        "trusted": true
      },
      "cell_type": "code",
      "source": "# function with parameters\n\ndef say_welcom(phrase, _date):\n    print(phrase.upper(), \" today is \", _date)\n    \nsay_welcom(\"hello\", \"5/10/2020\")\n\n",
      "execution_count": 4,
      "outputs": [
        {
          "output_type": "stream",
          "text": "HELLO  today is  5/10/2020\n",
          "name": "stdout"
        }
      ]
    },
    {
      "metadata": {
        "trusted": true,
        "scrolled": true
      },
      "cell_type": "code",
      "source": "#return values\ndef myvalue(numericals):\n    numericals=numericals/2\n    return numericals\nmyvalue(40)\n",
      "execution_count": 5,
      "outputs": [
        {
          "output_type": "execute_result",
          "execution_count": 5,
          "data": {
            "text/plain": "20.0"
          },
          "metadata": {}
        }
      ]
    },
    {
      "metadata": {
        "trusted": true,
        "scrolled": true
      },
      "cell_type": "code",
      "source": "def bird_available(bird):\n    bird_name=\"crow robin nightingle\"\n    return bird_name\n\nbirdname=input(\"enter the birdanme \" )\nprint (\"the bird name availability is\" , birdname in bird_available(birdname))\n\n",
      "execution_count": 6,
      "outputs": [
        {
          "output_type": "stream",
          "name": "stdout",
          "text": "enter the birdanme crow\nthe bird name availability is True\n"
        }
      ]
    },
    {
      "metadata": {
        "trusted": true
      },
      "cell_type": "code",
      "source": "",
      "execution_count": null,
      "outputs": []
    },
    {
      "metadata": {
        "trusted": true
      },
      "cell_type": "code",
      "source": "# mathematical exressions.\n#double slash is for dividing without carry on result or closes integer.\nx=5/4\nprint(x)\ny=25//4\ny",
      "execution_count": 7,
      "outputs": [
        {
          "output_type": "stream",
          "text": "1.25\n",
          "name": "stdout"
        },
        {
          "output_type": "execute_result",
          "execution_count": 7,
          "data": {
            "text/plain": "6"
          },
          "metadata": {}
        }
      ]
    },
    {
      "metadata": {
        "trusted": true
      },
      "cell_type": "code",
      "source": "# list and tuples\nvar=(\"cow\",1,2.556)\ntype(var)\n# you can access to the elements of tuple\nvar[0] #this will return cow\nvar[2] # this will return 2.556\n\n# you can concatenate the tuple\n\nvar2=var+(\"cat\",\"snake\",5)\nvar2[3] # this will return cat\n\n# tuples are immutable(cant change the value of element), you have to create a new one",
      "execution_count": 8,
      "outputs": [
        {
          "output_type": "execute_result",
          "execution_count": 8,
          "data": {
            "text/plain": "'cat'"
          },
          "metadata": {}
        }
      ]
    },
    {
      "metadata": {
        "trusted": true
      },
      "cell_type": "code",
      "source": "# sort a tuple\nvar1=(9,3,2,5,10,5,0)\nvar2=sorted(var1)\nvar2",
      "execution_count": 9,
      "outputs": [
        {
          "output_type": "execute_result",
          "execution_count": 9,
          "data": {
            "text/plain": "[0, 2, 3, 5, 5, 9, 10]"
          },
          "metadata": {}
        }
      ]
    },
    {
      "metadata": {
        "trusted": true
      },
      "cell_type": "code",
      "source": "# nesting the tuple\nn1=(\"joke\",\"clock\",\"rock\")\nn2=(0,23,45,465)\nn3=(.5,.25)\nn=(n1,n2,n3)\nn[2][1] #this will return 0.25(as it is the 2nd element of 3rd set)\nn\nn1[-3] # -1 is the way of calling the last element of a tuple ",
      "execution_count": 10,
      "outputs": [
        {
          "output_type": "execute_result",
          "execution_count": 10,
          "data": {
            "text/plain": "'joke'"
          },
          "metadata": {}
        }
      ]
    },
    {
      "metadata": {
        "trusted": true
      },
      "cell_type": "code",
      "source": "# list are muttable and represnted by [] wher tuples aare represented by ()\n\nl1=[\"michael\",10,12,65,9,\"jack\",(\"four\",4)]\nl1[6][1] # this will return 4 as it is calling for 1st element of 6th item\nl1[5:7]  # the index is 1+ larger then the length of the list and  tuple\n\n# list can be changed\nl1.extend([\"crock\",\"lock\"])\nlen(l1) \nl1.append([\"mic\",24])\nlen(l1) # append add the elements but consider as one element where extend consider each of them individual element\nl1\ndel(l1[9]) # it will delete the 10th element (mic,24)\nl1",
      "execution_count": 11,
      "outputs": [
        {
          "output_type": "execute_result",
          "execution_count": 11,
          "data": {
            "text/plain": "['michael', 10, 12, 65, 9, 'jack', ('four', 4), 'crock', 'lock']"
          },
          "metadata": {}
        }
      ]
    },
    {
      "metadata": {
        "trusted": true
      },
      "cell_type": "code",
      "source": "# you can split a list\na1=[\"24,45,36,67,75\"]\nb1=\"24,45,36,89\".split(\",\") # it will not take any variable\nb1",
      "execution_count": 12,
      "outputs": [
        {
          "output_type": "execute_result",
          "execution_count": 12,
          "data": {
            "text/plain": "['24', '45', '36', '89']"
          },
          "metadata": {}
        }
      ]
    },
    {
      "metadata": {
        "trusted": true
      },
      "cell_type": "code",
      "source": "# cloning a vaiable\na=[23, \"man\",\"bat\",45]\nb=a[:]\nb[0]=\"land\" # changing the 1st element of b\nb\n",
      "execution_count": 13,
      "outputs": [
        {
          "output_type": "execute_result",
          "execution_count": 13,
          "data": {
            "text/plain": "['land', 'man', 'bat', 45]"
          },
          "metadata": {}
        }
      ]
    },
    {
      "metadata": {
        "trusted": true
      },
      "cell_type": "code",
      "source": "# sets=collection of elements, unordered, unique elements\ns1={\"clock\",\"rock\",\"joke\",\"pop\",\"rock\",\"crock\"} #there might be duplicate items but wont be presented\nl1=[\"order\",\"recorder\",\"player\",\"joker\",45,65,995]\ns2=set(l1) # converting a list into set\ns2\n",
      "execution_count": 14,
      "outputs": [
        {
          "output_type": "execute_result",
          "execution_count": 14,
          "data": {
            "text/plain": "{45, 65, 995, 'joker', 'order', 'player', 'recorder'}"
          },
          "metadata": {}
        }
      ]
    },
    {
      "metadata": {
        "trusted": true
      },
      "cell_type": "code",
      "source": "# set operations\ns1={\"clock\",\"rock\",\"joke\",\"pop\",\"rock\",\"crock\"}\ns1.add(\"mock\") # will add \"mock\" to the set\ns1\n\"rock\" in s1 # will give true\ns1.remove(\"pop\") #will remove \"pop\" from the set\ns1\ns2={\"clock\",\"player\",\"crock\"}\ns3=s1&s2 # find the common values\ns3\ns4=s1.union(s2) # set union operation\ns4\n\ns2.issubset(s4) # sub set validity check",
      "execution_count": 17,
      "outputs": [
        {
          "output_type": "execute_result",
          "execution_count": 17,
          "data": {
            "text/plain": "True"
          },
          "metadata": {}
        }
      ]
    }
  ],
  "metadata": {
    "kernelspec": {
      "name": "python36",
      "display_name": "Python 3.6",
      "language": "python"
    },
    "language_info": {
      "mimetype": "text/x-python",
      "nbconvert_exporter": "python",
      "name": "python",
      "pygments_lexer": "ipython3",
      "version": "3.6.6",
      "file_extension": ".py",
      "codemirror_mode": {
        "version": 3,
        "name": "ipython"
      }
    }
  },
  "nbformat": 4,
  "nbformat_minor": 2
}