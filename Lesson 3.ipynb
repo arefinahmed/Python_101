{
  "cells": [
    {
      "metadata": {
        "trusted": true
      },
      "cell_type": "code",
      "source": "#if-else statement\nbirds_name=\"robin eagle sparrow crow\"\nrequest_name=input(\"enter requested name :\")\navailability= request_name in birds_name\n\nif availability:\n    print(\"the requested name \", request_name, \"is available\")\nelse:\n    print(\"the requested name \", request_name, \"is not available\")\n\n#pass is used when just nothing needs to be done\n",
      "execution_count": 1,
      "outputs": [
        {
          "output_type": "stream",
          "name": "stdout",
          "text": "enter requested name :ROBIN\nthe requested name  ROBIN is not available\n"
        }
      ]
    },
    {
      "metadata": {
        "trusted": true
      },
      "cell_type": "code",
      "source": "# boolean stroing method\ntest_variable=input(\"write your input \")\n\nif test_variable.isdigit():\n    print(\"it is positive\")\nelse:\n    print(\"it is not positive\")\n    \nif test_variable.isalpha():\n    print(\" it is a word\")\nelse:\n    print(\"it is a number\")",
      "execution_count": 1,
      "outputs": [
        {
          "output_type": "stream",
          "name": "stdout",
          "text": "write your input 45\nit is positive\nit is a number\n"
        }
      ]
    },
    {
      "metadata": {
        "trusted": true
      },
      "cell_type": "code",
      "source": "# comparison operators\n3>5\ncomp=\"a\"\ncort=45\nprint(\"comparison is equal :\" ,comp==\"A\")\nprint(\"cort is equal :\", cort!=55)",
      "execution_count": 32,
      "outputs": [
        {
          "output_type": "stream",
          "text": "comparison is equal : False\ncort is equal : True\n",
          "name": "stdout"
        }
      ]
    },
    {
      "metadata": {
        "trusted": true
      },
      "cell_type": "code",
      "source": "x=int(input(\" enter the number \"))\n\n\nif x >50:\n    print(\"the variable is higher\")\nelse:\n    print(\"the variable is low\")",
      "execution_count": 3,
      "outputs": [
        {
          "output_type": "stream",
          "name": "stdout",
          "text": " enter the number 55\nthe variable is higher\n"
        }
      ]
    },
    {
      "metadata": {
        "trusted": true
      },
      "cell_type": "code",
      "source": "# Dictionaries\nmovie_chapter={\"movie_name\": \"A Beautiful Mind\",\"movie_year\":1994,\"movie_character\":\"Russell Crow\"}\nmovie_chapter[\"movie_character\"] # calling elements from dictionaries\n\nmovie_chapter[\"award\"]='academy_award' # add elements to the dictionaries\n\nmovie_chapter[\"award\"]\n\ndel(movie_chapter['movie_year'])\n\n\"Russell Crow\"in movie_chapter # you can check the keys not the element\n\ndict.keys(movie_chapter) # show all the keys for dictionaries\ndict.values(movie_chapter) # show all the values of dictionaries\n\nD={'a':0,'b':1,'c':2}\nD.values()\n",
      "execution_count": 17,
      "outputs": [
        {
          "output_type": "execute_result",
          "execution_count": 17,
          "data": {
            "text/plain": "dict_values([0, 1, 2])"
          },
          "metadata": {}
        }
      ]
    },
    {
      "metadata": {
        "trusted": true
      },
      "cell_type": "code",
      "source": "",
      "execution_count": null,
      "outputs": []
    }
  ],
  "metadata": {
    "kernelspec": {
      "name": "python36",
      "display_name": "Python 3.6",
      "language": "python"
    },
    "language_info": {
      "mimetype": "text/x-python",
      "nbconvert_exporter": "python",
      "name": "python",
      "pygments_lexer": "ipython3",
      "version": "3.6.6",
      "file_extension": ".py",
      "codemirror_mode": {
        "version": 3,
        "name": "ipython"
      }
    }
  },
  "nbformat": 4,
  "nbformat_minor": 2
}