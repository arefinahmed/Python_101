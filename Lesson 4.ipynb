{
  "cells": [
    {
      "metadata": {
        "trusted": true
      },
      "cell_type": "code",
      "source": "bird_name=\"eagle parrot robin sparrow\"\nbird_guess=input(\"guess your bird name : \")\n\nif bird_guess not in bird_name:\n    bird_guess=input(\" try your 2nd guess \")\n    if bird_guess not in bird_name:\n        bird_guess=input(\"try your last guess\")\n        if bird_guess not in bird_name:\n            pint(\" all guesses are wrong \")\n        else:\n            print(\" you made correct at last attempt \")\n    else:\n        print(\"you made correct at second attempt\")   \n\nelse:\n    print(\"great!! you made correct in first attempt \")\n        ",
      "execution_count": 5,
      "outputs": [
        {
          "output_type": "stream",
          "name": "stdout",
          "text": "guess your bird name : duck\n try your 2nd guess parrot\nyou made correct at second attempt\n"
        }
      ]
    },
    {
      "metadata": {
        "trusted": true
      },
      "cell_type": "code",
      "source": "# \\n: new line, \\t: for new tab, \\': for single qupte', \\\": for double quote\", \\\\: backslash\n\nprint(\"Hello!\\nI am new to Python\")",
      "execution_count": 8,
      "outputs": [
        {
          "output_type": "stream",
          "text": "Hello!\nI am new to Python\n",
          "name": "stdout"
        }
      ]
    },
    {
      "metadata": {
        "trusted": true
      },
      "cell_type": "code",
      "source": "name_student=\"Omar Martinez\"\nage=18\nprint(\"Full Name \\t AGE\")\nprint(name_student,'\\t',age)",
      "execution_count": 16,
      "outputs": [
        {
          "output_type": "stream",
          "text": "Full Name \t AGE\nOmar Martinez \t 18\n",
          "name": "stdout"
        }
      ]
    },
    {
      "metadata": {
        "trusted": true
      },
      "cell_type": "code",
      "source": "print (\"I h\\'ve said, we must \\\"DO\\\"\")",
      "execution_count": 18,
      "outputs": [
        {
          "output_type": "stream",
          "text": "I h've said, we must \"DO\"\n",
          "name": "stdout"
        }
      ]
    },
    {
      "metadata": {
        "trusted": true
      },
      "cell_type": "code",
      "source": "# While loop\nname_collection=\"jay jack john jody joe jude\"\n\n\nwhile True:\n    family_name=input(\"enter the family name \")\n    if family_name==\"jack\":\n        print(\"they live in London \")\n        break\n    \n    elif family_name==\"jay\":\n        print(\"they live in Moscow\")\n        break\n    \n    elif family_name==\"john\":\n        print(\"they live in New York\")\n        break\n    \n    elif family_name==\"jody\":\n        print(\"they live in Bratislava\")\n        break\n    \n    else: \n        print(\"Who knows where they live \")\n        ",
      "execution_count": 3,
      "outputs": [
        {
          "output_type": "stream",
          "name": "stdout",
          "text": "enter the family name hoh\nWho knows where they live \nenter the family name hoh\nWho knows where they live \nenter the family name hij\nWho knows where they live \nenter the family name eleven\nWho knows where they live \nenter the family name john\nthey live in New York\n"
        }
      ]
    },
    {
      "metadata": {
        "trusted": true
      },
      "cell_type": "code",
      "source": "while True:\n    number=input(\"write the number\")\n    if number==\"5\":\n        print(\"it is correct\")\n        break\n    else:\n        print(\"guess againe\")",
      "execution_count": 2,
      "outputs": [
        {
          "output_type": "stream",
          "name": "stdout",
          "text": "write the number5\nit is correct\n"
        }
      ]
    },
    {
      "metadata": {
        "trusted": true
      },
      "cell_type": "code",
      "source": "squares=[\"red\",\"white\",\"blue\",\"green\",\"yellow\"]\ni=len(squares)\nfor i in range(i):\n    squares[i]=\"white\" + str(i)\n    \nsquares",
      "execution_count": 6,
      "outputs": [
        {
          "output_type": "execute_result",
          "execution_count": 6,
          "data": {
            "text/plain": "['white0', 'white1', 'white2', 'white3', 'white4']"
          },
          "metadata": {}
        }
      ]
    },
    {
      "metadata": {
        "trusted": true
      },
      "cell_type": "code",
      "source": "circle=[\"red\",\"blue\",\"green\",\"purple\",\"yellow\"]\n\nfor square in circle:\n    square=circle # it will store all the items in circle to square.\n\nsquare\n\ncircle2=[\"cow\",\"bow\",\"arrow\",\"deer\"]\nfor i, value in enumerate(circle2,5): #(circle,2) the number stands what it would count the first item\n    print(i,value)",
      "execution_count": 21,
      "outputs": [
        {
          "output_type": "stream",
          "text": "5 cow\n6 bow\n7 arrow\n8 deer\n",
          "name": "stdout"
        }
      ]
    },
    {
      "metadata": {
        "trusted": true
      },
      "cell_type": "code",
      "source": "circle=[\"red\",\"red\",\"red\",\"purple\",\"yellow\"]\nsquare=[]\ni=0\nwhile (circle[i]==\"red\"):\n    square.append(circle[i])\n    i=i+1\n    \ni,square\n\nA=[3,4,5,9,7,2]\nfor a in A:\n    print(a,A)\n    \n",
      "execution_count": 4,
      "outputs": [
        {
          "output_type": "stream",
          "text": "3 [3, 4, 5, 9, 7, 2]\n4 [3, 4, 5, 9, 7, 2]\n5 [3, 4, 5, 9, 7, 2]\n9 [3, 4, 5, 9, 7, 2]\n7 [3, 4, 5, 9, 7, 2]\n2 [3, 4, 5, 9, 7, 2]\n",
          "name": "stdout"
        },
        {
          "output_type": "execute_result",
          "execution_count": 4,
          "data": {
            "text/plain": "<enumerate at 0x7f0bddf65828>"
          },
          "metadata": {}
        }
      ]
    },
    {
      "metadata": {
        "trusted": true
      },
      "cell_type": "code",
      "source": "circle=[\"red\",\"blue\",\"white\",\"maroon\"]\nx=enumerate(circle)\ny= list(enumerate(circle,0))\nprint (y)",
      "execution_count": 28,
      "outputs": [
        {
          "output_type": "stream",
          "text": "[(0, 'red'), (1, 'blue'), (2, 'white'), (3, 'maroon')]\n",
          "name": "stdout"
        }
      ]
    },
    {
      "metadata": {
        "trusted": true
      },
      "cell_type": "code",
      "source": "def fan (a,b):\n    c=a+b\n    return c\n\nfan(2,9)",
      "execution_count": 34,
      "outputs": [
        {
          "output_type": "execute_result",
          "execution_count": 34,
          "data": {
            "text/plain": "11"
          },
          "metadata": {}
        }
      ]
    }
  ],
  "metadata": {
    "kernelspec": {
      "name": "python36",
      "display_name": "Python 3.6",
      "language": "python"
    },
    "language_info": {
      "mimetype": "text/x-python",
      "nbconvert_exporter": "python",
      "name": "python",
      "pygments_lexer": "ipython3",
      "version": "3.6.6",
      "file_extension": ".py",
      "codemirror_mode": {
        "version": 3,
        "name": "ipython"
      }
    }
  },
  "nbformat": 4,
  "nbformat_minor": 2
}