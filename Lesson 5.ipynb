{
  "cells": [
    {
      "metadata": {
        "trusted": true
      },
      "cell_type": "code",
      "source": "# objects and classes\n# A class is a blueprint which you use to create objects. An object is \n# an instance of a class - it's a concrete 'thing' that you made using a \n# specific class. So, 'object' and 'instance' are the same thing, but the\n# word 'instance' indicates the relationship of an object to its class\nimport math\nimport matplotlib.pyplot as plt\nclass circle:\n    def __init__(self,radius,color): # big issue __init__< this is mandatory double underscore and have to use init#\n        self.radius=radius\n        self.color=\"blue\"\n    def measure_area(self,radius):\n        self.area=self.radius*self.radius*math.pi\n        return(self.area)\n        \ncircle1=circle(10,\"blue\")\ncircle1.radius\n\ncircle1.color\n\ncircle1.measure_area(circle1.radius)\n\n\ncircle1.area",
      "execution_count": 5,
      "outputs": [
        {
          "output_type": "execute_result",
          "execution_count": 5,
          "data": {
            "text/plain": "314.1592653589793"
          },
          "metadata": {}
        }
      ]
    },
    {
      "metadata": {
        "trusted": true
      },
      "cell_type": "code",
      "source": "# opeing a file and its content\nimport os\n# print(os.getcwd() + \"\\n\")\n\nfile1=open(\"resource file/python _lesson_5.txt\",\"r\") # r-reading a-appending w-writing \nfile1.name\nprint(file1.read()) # reading file contents\nfile1.close",
      "execution_count": 47,
      "outputs": [
        {
          "output_type": "stream",
          "text": "Hello world!\n",
          "name": "stdout"
        },
        {
          "output_type": "execute_result",
          "execution_count": 47,
          "data": {
            "text/plain": "<function TextIOWrapper.close()>"
          },
          "metadata": {}
        }
      ]
    },
    {
      "metadata": {
        "trusted": true
      },
      "cell_type": "code",
      "source": "# open file using with statement \nwith open(\"resource file/python _lesson_5.txt\",\"r\") as file2:\n    #file_content=file2.read()\n    #print(file_content)\n    file_stuff=file2.readline()\n    #print(file_stuff)\n    file_stuff=file2.readline()\n    print(file_stuff)\n",
      "execution_count": 76,
      "outputs": [
        {
          "output_type": "stream",
          "text": "this is line 2\tit is to stay\n\n",
          "name": "stdout"
        }
      ]
    }
  ],
  "metadata": {
    "kernelspec": {
      "name": "python36",
      "display_name": "Python 3.6",
      "language": "python"
    },
    "language_info": {
      "mimetype": "text/x-python",
      "nbconvert_exporter": "python",
      "name": "python",
      "pygments_lexer": "ipython3",
      "version": "3.6.6",
      "file_extension": ".py",
      "codemirror_mode": {
        "version": 3,
        "name": "ipython"
      }
    },
    "language": "fsharp"
  },
  "nbformat": 4,
  "nbformat_minor": 2
}