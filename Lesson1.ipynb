{
  "cells": [
    {
      "metadata": {
        "trusted": true
      },
      "cell_type": "code",
      "source": "# print your name#\n\nprint (\"I am Arefin Ahmed\")\n\n# do math\nx=5\ny=x+2\ny",
      "execution_count": 4,
      "outputs": [
        {
          "output_type": "stream",
          "text": "I am Arefin Ahmed\n",
          "name": "stdout"
        },
        {
          "output_type": "execute_result",
          "execution_count": 4,
          "data": {
            "text/plain": "7"
          },
          "metadata": {}
        }
      ]
    },
    {
      "metadata": {
        "trusted": true
      },
      "cell_type": "code",
      "source": "\"Hello World\"",
      "execution_count": 5,
      "outputs": [
        {
          "output_type": "execute_result",
          "execution_count": 5,
          "data": {
            "text/plain": "'Hello World'"
          },
          "metadata": {}
        }
      ]
    },
    {
      "metadata": {
        "trusted": true
      },
      "cell_type": "code",
      "source": "\nprint(type(\"Malcolm Gladwell\"))\n",
      "execution_count": 10,
      "outputs": [
        {
          "output_type": "stream",
          "text": "<class 'str'>\n",
          "name": "stdout"
        }
      ]
    },
    {
      "metadata": {
        "trusted": true
      },
      "cell_type": "code",
      "source": "print(type(0.0000000001))",
      "execution_count": 11,
      "outputs": [
        {
          "output_type": "stream",
          "text": "<class 'float'>\n",
          "name": "stdout"
        }
      ]
    },
    {
      "metadata": {
        "trusted": true
      },
      "cell_type": "code",
      "source": "# in print function you can not mix different type of variables\n\nname=\"Alex\"\nname2=\"Malcolm\"\nage=45\nprint(name +(\" \")+ name2)\n",
      "execution_count": 24,
      "outputs": [
        {
          "output_type": "stream",
          "text": "Alex Malcolm\n",
          "name": "stdout"
        }
      ]
    },
    {
      "metadata": {
        "trusted": true
      },
      "cell_type": "code",
      "source": "# take input\nage=input(\"name \")\nprint(\"the age  is \" + age)",
      "execution_count": 1,
      "outputs": [
        {
          "output_type": "stream",
          "name": "stdout",
          "text": "name arefin\nthe age  is arefin\n"
        }
      ]
    },
    {
      "metadata": {
        "trusted": true
      },
      "cell_type": "code",
      "source": "# how to print different types of data\nage=input()\nname=input()\nprint(name, \"is\", age)",
      "execution_count": 3,
      "outputs": [
        {
          "output_type": "stream",
          "name": "stdout",
          "text": "35\nMax\nMax is 35\n"
        }
      ]
    },
    {
      "metadata": {
        "trusted": true
      },
      "cell_type": "code",
      "source": "# boolen Test",
      "execution_count": null,
      "outputs": []
    },
    {
      "metadata": {
        "trusted": true
      },
      "cell_type": "code",
      "source": "\"arefin\".isalpha()\n",
      "execution_count": 5,
      "outputs": [
        {
          "output_type": "execute_result",
          "execution_count": 5,
          "data": {
            "text/plain": "True"
          },
          "metadata": {}
        }
      ]
    },
    {
      "metadata": {
        "trusted": true
      },
      "cell_type": "code",
      "source": "\"3rd\".isalnum()",
      "execution_count": 6,
      "outputs": [
        {
          "output_type": "execute_result",
          "execution_count": 6,
          "data": {
            "text/plain": "True"
          },
          "metadata": {}
        }
      ]
    },
    {
      "metadata": {
        "trusted": true
      },
      "cell_type": "code",
      "source": "\"regular\".startswith(\"R\")",
      "execution_count": 12,
      "outputs": [
        {
          "output_type": "execute_result",
          "execution_count": 12,
          "data": {
            "text/plain": "False"
          },
          "metadata": {}
        }
      ]
    },
    {
      "metadata": {
        "trusted": true
      },
      "cell_type": "code",
      "source": "#all the case has to be lower/upper\n\"tube\".islower()",
      "execution_count": 16,
      "outputs": [
        {
          "output_type": "execute_result",
          "execution_count": 16,
          "data": {
            "text/plain": "True"
          },
          "metadata": {}
        }
      ]
    },
    {
      "metadata": {
        "trusted": true
      },
      "cell_type": "code",
      "source": "\"Tube\".isupper()",
      "execution_count": 17,
      "outputs": [
        {
          "output_type": "execute_result",
          "execution_count": 17,
          "data": {
            "text/plain": "False"
          },
          "metadata": {}
        }
      ]
    },
    {
      "metadata": {
        "trusted": true
      },
      "cell_type": "code",
      "source": "cm_height=\"176\"\ncm_height.isdigit()",
      "execution_count": 21,
      "outputs": [
        {
          "output_type": "execute_result",
          "execution_count": 21,
          "data": {
            "text/plain": "True"
          },
          "metadata": {}
        }
      ]
    },
    {
      "metadata": {
        "trusted": true
      },
      "cell_type": "code",
      "source": "# formatting string\nprint(\"i live in USA\".lower())",
      "execution_count": 23,
      "outputs": [
        {
          "output_type": "stream",
          "text": "i live in usa\n",
          "name": "stdout"
        }
      ]
    },
    {
      "metadata": {
        "trusted": true
      },
      "cell_type": "code",
      "source": "print(\"Clever Fox Run Over Lazy Dog\".capitalize())",
      "execution_count": 24,
      "outputs": [
        {
          "output_type": "stream",
          "text": "Clever fox run over lazy dog\n",
          "name": "stdout"
        }
      ]
    },
    {
      "metadata": {
        "trusted": true
      },
      "cell_type": "code",
      "source": "Are_preference=input(\"type the area you like most \").upper()\nprint(Are_preference)",
      "execution_count": 25,
      "outputs": [
        {
          "output_type": "stream",
          "name": "stdout",
          "text": "type the area you like most Texas\nTEXAS\n"
        }
      ]
    },
    {
      "metadata": {
        "trusted": true
      },
      "cell_type": "code",
      "source": "#boolean In keyword\nmenu=\"Salad Sandwich with ranch\"\nprint('ranch' in menu )\nprint('salad' in menu)\nprint('Salad'.lower() in menu.lower())",
      "execution_count": 35,
      "outputs": [
        {
          "output_type": "stream",
          "text": "True\nFalse\nTrue\n",
          "name": "stdout"
        }
      ]
    },
    {
      "metadata": {
        "trusted": true
      },
      "cell_type": "code",
      "source": "print(\"*    *\")\nprint(\" *  *\")\nprint(\"  *\")\nprint(\" *  *\")\nprint(\"*     *\")",
      "execution_count": 1,
      "outputs": [
        {
          "output_type": "stream",
          "text": "*    *\n *  *\n  *\n *  *\n*     *\n",
          "name": "stdout"
        }
      ]
    },
    {
      "metadata": {
        "trusted": true
      },
      "cell_type": "code",
      "source": "# bind string\nx=\"michael jackson\"\nx[0]\ny=\"arefin ahmed\"\n#y[-10]:\"a\"\ny[-11]\ny[1:4]\ny[::2]\nx[::2]\nx[0:5:2]",
      "execution_count": 22,
      "outputs": [
        {
          "output_type": "execute_result",
          "execution_count": 22,
          "data": {
            "text/plain": "'mca'"
          },
          "metadata": {}
        }
      ]
    },
    {
      "metadata": {
        "trusted": true
      },
      "cell_type": "code",
      "source": "#measure the length of a string\nx=\"apple pie\"\nlen(x)",
      "execution_count": 23,
      "outputs": [
        {
          "output_type": "execute_result",
          "execution_count": 23,
          "data": {
            "text/plain": "9"
          },
          "metadata": {}
        }
      ]
    },
    {
      "metadata": {
        "trusted": true
      },
      "cell_type": "code",
      "source": "# methods for strings\nx=\"apple pie\"\nl=x.upper()\nr=l.replace('APPLE','pineapple')\n\n# to use replace method you have to enter the exact string\nr",
      "execution_count": 30,
      "outputs": [
        {
          "output_type": "execute_result",
          "execution_count": 30,
          "data": {
            "text/plain": "'pineapple PIE'"
          },
          "metadata": {}
        }
      ]
    },
    {
      "metadata": {
        "trusted": true
      },
      "cell_type": "code",
      "source": "# find method\nx=\"Garden state\"\nx.find('den')\nx.find('pen')\n#if the find method cant find the string will return -1",
      "execution_count": 33,
      "outputs": [
        {
          "output_type": "execute_result",
          "execution_count": 33,
          "data": {
            "text/plain": "-1"
          },
          "metadata": {}
        }
      ]
    }
  ],
  "metadata": {
    "kernelspec": {
      "name": "python36",
      "display_name": "Python 3.6",
      "language": "python"
    },
    "language_info": {
      "mimetype": "text/x-python",
      "nbconvert_exporter": "python",
      "name": "python",
      "pygments_lexer": "ipython3",
      "version": "3.6.6",
      "file_extension": ".py",
      "codemirror_mode": {
        "version": 3,
        "name": "ipython"
      }
    }
  },
  "nbformat": 4,
  "nbformat_minor": 2
}